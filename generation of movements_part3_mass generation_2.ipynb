{
 "cells": [
  {
   "cell_type": "code",
   "execution_count": 1,
   "id": "a3054005",
   "metadata": {},
   "outputs": [],
   "source": [
    "import pandas as pd\n",
    "import osmnx as ox\n",
    "import matplotlib.pyplot as plt\n",
    "import pickle as pkl\n",
    "from scipy.spatial import distance_matrix\n",
    "import numpy as np\n",
    "import time"
   ]
  },
  {
   "cell_type": "code",
   "execution_count": 2,
   "id": "e5513b12",
   "metadata": {},
   "outputs": [],
   "source": [
    "# read population\n",
    "# read data\n",
    "with open(\"data/district_population.pkl\", \"rb\") as file:\n",
    "    dis_pop = pkl.load(file)\n",
    "    \n",
    "# read data\n",
    "with open(\"data/boundary.pkl\", \"rb\") as file:\n",
    "    dis_bd = pkl.load(file)\n",
    "    \n",
    "# read data\n",
    "with open(\"data/district_distance.pkl\", \"rb\") as file:\n",
    "    dis_distance = pkl.load(file)"
   ]
  },
  {
   "cell_type": "code",
   "execution_count": null,
   "id": "9832c57f",
   "metadata": {},
   "outputs": [],
   "source": []
  },
  {
   "cell_type": "code",
   "execution_count": 3,
   "id": "004f08dc",
   "metadata": {},
   "outputs": [],
   "source": [
    "# get the centroid of each area\n",
    "locs = []\n",
    "centers = []\n",
    "for tp_dis in dis_bd:\n",
    "    locs.append(tp_dis)\n",
    "# calculate the distance matrix\n",
    "distance_m = []\n",
    "for tp_loc in locs:\n",
    "    tp_dis = [dis_distance[(tp_loc, tp_loc2)] for tp_loc2 in locs]\n",
    "    distance_m.append(tp_dis)\n",
    "    \n",
    "distance_m = np.array(distance_m)"
   ]
  },
  {
   "cell_type": "code",
   "execution_count": 4,
   "id": "5a177154",
   "metadata": {},
   "outputs": [
    {
     "data": {
      "text/plain": [
       "84860000.00000003"
      ]
     },
     "execution_count": 4,
     "metadata": {},
     "output_type": "execute_result"
    }
   ],
   "source": [
    "# WARNING!!!: the 2011 data was used. It should be the 2021 data\n",
    "pops = np.array([dis_pop[tp_dis] for tp_dis in locs])\n",
    "# pops = pops*(84860000/pops.sum())\n",
    "pops.sum()"
   ]
  },
  {
   "cell_type": "code",
   "execution_count": 6,
   "id": "6869e019",
   "metadata": {},
   "outputs": [
    {
     "name": "stderr",
     "output_type": "stream",
     "text": [
      "C:\\Users\\wwy10\\AppData\\Local\\Temp\\ipykernel_36384\\3356370743.py:2: RuntimeWarning: divide by zero encountered in divide\n",
      "  tran_Mo = pops.reshape(-1,1).dot(pops.reshape(1,-1))/distance_m**2\n"
     ]
    }
   ],
   "source": [
    "# calculate transition matrix\n",
    "tran_Mo = pops.reshape(-1,1).dot(pops.reshape(1,-1))/distance_m**2\n",
    "np.fill_diagonal(tran_Mo, 0)\n",
    "tran_M = (tran_Mo.T / tran_Mo.sum(axis=1)).T\n",
    "rele = pops/pops.sum()"
   ]
  },
  {
   "cell_type": "code",
   "execution_count": 7,
   "id": "acd1f232",
   "metadata": {},
   "outputs": [],
   "source": [
    "def fast_choose_from_2D(probs, n):\n",
    "    cumulative_prob_array = np.cumsum(probs, axis=1) # create a cumulative sum array for the probabilities\n",
    "    random_values = np.random.rand(n, 1) # Generate random values for sampling\n",
    "    # Find where the random values fall within the cumulative probability ranges\n",
    "    next_loc = (random_values < cumulative_prob_array).argmax(axis=1)\n",
    "    return next_loc"
   ]
  },
  {
   "cell_type": "code",
   "execution_count": 68,
   "id": "51d5dac9",
   "metadata": {},
   "outputs": [
    {
     "data": {
      "text/plain": [
       "0.0022097086912079614"
      ]
     },
     "execution_count": 68,
     "metadata": {},
     "output_type": "execute_result"
    }
   ],
   "source": [
    "s = 2\n",
    "0.025*s**(-3.5)"
   ]
  },
  {
   "cell_type": "code",
   "execution_count": null,
   "id": "5df75ef3",
   "metadata": {},
   "outputs": [],
   "source": []
  },
  {
   "cell_type": "code",
   "execution_count": null,
   "id": "542000e9",
   "metadata": {},
   "outputs": [],
   "source": []
  },
  {
   "cell_type": "code",
   "execution_count": 71,
   "id": "8cee95e9",
   "metadata": {
    "code_folding": [
     17
    ],
    "scrolled": true
   },
   "outputs": [
    {
     "name": "stdout",
     "output_type": "stream",
     "text": [
      "809.0950515270233\n"
     ]
    }
   ],
   "source": [
    "# setting of parameters\n",
    "a = 3\n",
    "b = 1\n",
    "p = 0.025\n",
    "gam = 1.5\n",
    "\n",
    "size =5000000 # number of people to generate\n",
    "# initlaization\n",
    "MaxT = 184 # number of days\n",
    "start_time = time.time()\n",
    "time_G = np.array([1 for i in range(size)], dtype=\"int\") # time that has passed\n",
    "current_locs = np.random.choice(len(locs), size=size, replace=True, p=rele) # initial locations\n",
    "movements = np.full((size, MaxT), -1, dtype=\"int\") # movement list\n",
    "movements[:,0]=current_locs\n",
    "num_visited = np.ones(size, dtype=\"int\")\n",
    "locs_visited = np.zeros((size, len(locs))) # time of locations visited\n",
    "locs_visited[np.array([i for i in range(size)], dtype=\"int\"), current_locs] = 1\n",
    "while (movements[:, -1]==-1).sum() != 0: # if there are persons whose last locations are unknown\n",
    "    tp_ids = np.where(movements[:, -1]==-1)[0] # select people whose last locations are unknown\n",
    "    tp_size = len(tp_ids)\n",
    "    # calculate the wait time\n",
    "    tp_wait_time = np.random.gamma(a,1/b,size=tp_size) # sample from gamma distribution\n",
    "    tp_wait_time = np.rint(tp_wait_time).astype(\"int\") # round to the nearest integer\n",
    "    tp_wait_time[tp_wait_time==0] = 1 # if there is zero, make it one\n",
    "    # add the number of current locations to the existing locations\n",
    "    tp_end_time = time_G[tp_ids]+tp_wait_time\n",
    "    for i in range(len(tp_ids)):\n",
    "        if tp_end_time[i] <= MaxT:\n",
    "            movements[tp_ids[i], time_G[tp_ids[i]]:tp_end_time[i]-1] = movements[tp_ids[i], time_G[tp_ids[i]]-1]\n",
    "        else:\n",
    "            movements[tp_ids[i], time_G[tp_ids[i]]:] = movements[tp_ids[i], time_G[tp_ids[i]]-1]\n",
    "\n",
    "    time_G[tp_ids] += tp_wait_time\n",
    "    \n",
    "    # used for debug\n",
    "#     if ((time_G[tp_ids]>MaxT)*((movements[tp_ids][:, -1])==-1)).sum()>0:\n",
    "#         print(np.where((time_G[tp_ids]>MaxT)*((movements[tp_ids][:, -1])==-1)))\n",
    "#         break\n",
    "    \n",
    "    if (movements[:, -1]==-1).sum() != 0: # if there are persons whose last locations are unknown\n",
    "        tp_ids = np.where(movements[:, -1]==-1)[0] # select people whose last location is unknown        \n",
    "        tp_size = len(tp_ids)\n",
    "        # calculate if explore\n",
    "        tp_p_explore = p*num_visited[tp_ids]**(-gam)\n",
    "        if_explore = np.random.uniform(size=tp_size)<tp_p_explore # if the person explore\n",
    "        n_explore = if_explore.sum()\n",
    "\n",
    "        # for explorers, calculate the probabilities for new locations\n",
    "        tp_probs_masked = tran_M[current_locs[tp_ids[if_explore]]]*(locs_visited[tp_ids[if_explore]]==0)\n",
    "        tp_probs = (tp_probs_masked.T / tp_probs_masked.sum(axis=1)).T\n",
    "        # choose the new location\n",
    "        next_loc = fast_choose_from_2D(tp_probs, n_explore)\n",
    "        # update variables for explorers\n",
    "        current_locs[tp_ids[if_explore]] = next_loc\n",
    "        movements[tp_ids[if_explore], time_G[tp_ids[if_explore]]-1] = next_loc\n",
    "        num_visited[tp_ids[if_explore]] += 1\n",
    "        locs_visited[tp_ids[if_explore], next_loc] += 1\n",
    "\n",
    "        # for returners, visit one of the previously visited locations\n",
    "        # note that people may return to the same location\n",
    "        n_return = tp_size-n_explore\n",
    "        if_return = (if_explore==False)\n",
    "        tp_times = locs_visited[tp_ids[if_return]]\n",
    "        tp_probs = (tp_times.T / tp_times.sum(axis=1)).T\n",
    "        next_loc = fast_choose_from_2D(tp_probs, n_return)\n",
    "        # update variables for returners\n",
    "        current_locs[tp_ids[if_return]] = next_loc\n",
    "        movements[tp_ids[if_return], time_G[tp_ids[if_return]]-1] = next_loc\n",
    "        locs_visited[tp_ids[if_return], next_loc] += 1\n",
    "        \n",
    "#     print((movements[:, -1]!=-1).sum())\n",
    "print(time.time()-start_time)\n",
    "# show_stacs()"
   ]
  },
  {
   "cell_type": "code",
   "execution_count": 73,
   "id": "1b4e6f37",
   "metadata": {},
   "outputs": [],
   "source": [
    "# save data\n",
    "with open(\"data/movements/a=3 b=1 p=0.025 gam=1.5/sample_movements.pkl\", \"wb\") as file:\n",
    "    pkl.dump(movements, file)"
   ]
  },
  {
   "cell_type": "code",
   "execution_count": null,
   "id": "e0cf95ca",
   "metadata": {},
   "outputs": [],
   "source": []
  },
  {
   "cell_type": "code",
   "execution_count": 63,
   "id": "2efa8aa0",
   "metadata": {
    "code_folding": [
     0
    ],
    "scrolled": true
   },
   "outputs": [],
   "source": [
    "# estimate the distribution of the number of visits and the time of stays (waiting time)\n",
    "def show_stacs():\n",
    "    plt.figure(figsize=(4,2.5))\n",
    "    stays_diff = movements[:, 1:] - movements[:, :-1]\n",
    "    day_inds = np.where(stays_diff.reshape(-1)!=0)[0]\n",
    "    start_days = np.array([i*MaxT for i in range(size)], dtype=\"int\")\n",
    "    days = np.concatenate([day_inds, start_days])\n",
    "    days.sort()\n",
    "    days = days[1:] - days[:-1]\n",
    "    _ = plt.hist(days, bins=list(range(1,120,2)))\n",
    "    plt.title(\"distribution of waiting time, ave={:.2f}\".format(days.mean()))\n",
    "    plt.show()\n",
    "    plt.figure(figsize=(4,2.5))\n",
    "    visits = np.zeros(size, dtype=\"int\")\n",
    "    uni_locs = np.sort(movements, axis=1)\n",
    "    visits = (uni_locs[:,1:] != uni_locs[:,:-1]).sum(axis=1)+1\n",
    "    _ = plt.hist(visits, bins=list(range(20)))\n",
    "    plt.title(\"distribution of number of visits, ave={:.2f}\".format(visits.mean()))\n",
    "    plt.show()\n",
    "    plt.figure(figsize=(4,2.5))\n",
    "    stays_diff = movements[:, 1:] - movements[:, :-1]\n",
    "    num_trips = (stays_diff!=0).sum(axis=1)\n",
    "    _ = plt.hist(num_trips, bins=list(range(10)))\n",
    "    plt.title(\"distribution of number of trips, ave={:.2f}\".format(num_trips.mean()))\n",
    "    plt.show()\n",
    "    print(num_trips)"
   ]
  },
  {
   "cell_type": "code",
   "execution_count": null,
   "id": "ace40a6c",
   "metadata": {},
   "outputs": [],
   "source": []
  }
 ],
 "metadata": {
  "kernelspec": {
   "display_name": "Python 3 (ipykernel)",
   "language": "python",
   "name": "python3"
  },
  "language_info": {
   "codemirror_mode": {
    "name": "ipython",
    "version": 3
   },
   "file_extension": ".py",
   "mimetype": "text/x-python",
   "name": "python",
   "nbconvert_exporter": "python",
   "pygments_lexer": "ipython3",
   "version": "3.8.19"
  }
 },
 "nbformat": 4,
 "nbformat_minor": 5
}
