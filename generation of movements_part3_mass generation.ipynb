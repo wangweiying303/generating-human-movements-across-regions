{
 "cells": [
  {
   "cell_type": "code",
   "execution_count": 1,
   "id": "a3054005",
   "metadata": {},
   "outputs": [],
   "source": [
    "import pandas as pd\n",
    "import osmnx as ox\n",
    "import matplotlib.pyplot as plt\n",
    "import pickle as pkl\n",
    "from scipy.spatial import distance_matrix\n",
    "import numpy as np\n",
    "import time"
   ]
  },
  {
   "cell_type": "code",
   "execution_count": 2,
   "id": "a77e3c8a",
   "metadata": {
    "scrolled": true
   },
   "outputs": [],
   "source": [
    "tp_url = \"https://en.wikipedia.org/wiki/List_of_districts_of_Madhya_Pradesh\"\n",
    "tables = pd.read_html(tp_url)\n",
    "dist_table = tables[0]"
   ]
  },
  {
   "cell_type": "code",
   "execution_count": 3,
   "id": "f5fae3c8",
   "metadata": {},
   "outputs": [],
   "source": [
    "# read data\n",
    "with open(\"data/boundary.pkl\", \"rb\") as file:\n",
    "    dis_bd = pkl.load(file)"
   ]
  },
  {
   "cell_type": "code",
   "execution_count": null,
   "id": "9832c57f",
   "metadata": {},
   "outputs": [],
   "source": []
  },
  {
   "cell_type": "code",
   "execution_count": 8,
   "id": "004f08dc",
   "metadata": {},
   "outputs": [],
   "source": [
    "# get the centroid of each area\n",
    "locs = []\n",
    "centers = []\n",
    "for tp_dis in dis_bd:\n",
    "    locs.append(tp_dis)\n",
    "    tp_ct = dis_bd[tp_dis].to_crs(epsg=32618).centroid[0]\n",
    "    centers.append((tp_ct.x, tp_ct.y))\n",
    "# calculate the distance matrix\n",
    "distance_m = distance_matrix(centers, centers)"
   ]
  },
  {
   "cell_type": "code",
   "execution_count": 9,
   "id": "5a177154",
   "metadata": {},
   "outputs": [],
   "source": [
    "# WARNING!!!: the 2011 data was used. It should be the 2021 data\n",
    "pops = np.array(list(dist_table[\"Population (2011)[5]\"]))\n",
    "pops[38] = 40192\n",
    "pops = pops*(84860000/pops.sum())"
   ]
  },
  {
   "cell_type": "code",
   "execution_count": 10,
   "id": "6869e019",
   "metadata": {},
   "outputs": [
    {
     "name": "stderr",
     "output_type": "stream",
     "text": [
      "C:\\Users\\wwy10\\AppData\\Local\\Temp\\ipykernel_30288\\3356370743.py:2: RuntimeWarning: divide by zero encountered in divide\n",
      "  tran_Mo = pops.reshape(-1,1).dot(pops.reshape(1,-1))/distance_m**2\n"
     ]
    }
   ],
   "source": [
    "# calculate transition matrix\n",
    "tran_Mo = pops.reshape(-1,1).dot(pops.reshape(1,-1))/distance_m**2\n",
    "np.fill_diagonal(tran_Mo, 0)\n",
    "tran_M = (tran_Mo.T / tran_Mo.sum(axis=1)).T\n",
    "rele = pops/pops.sum()"
   ]
  },
  {
   "cell_type": "code",
   "execution_count": 11,
   "id": "acd1f232",
   "metadata": {},
   "outputs": [],
   "source": [
    "def fast_choose_from_2D(probs, n):\n",
    "    cumulative_prob_array = np.cumsum(probs, axis=1) # create a cumulative sum array for the probabilities\n",
    "    random_values = np.random.rand(n, 1) # Generate random values for sampling\n",
    "    # Find where the random values fall within the cumulative probability ranges\n",
    "    next_loc = (random_values < cumulative_prob_array).argmax(axis=1)\n",
    "    return next_loc"
   ]
  },
  {
   "cell_type": "code",
   "execution_count": 61,
   "id": "8cee95e9",
   "metadata": {
    "code_folding": [
     17
    ],
    "scrolled": true
   },
   "outputs": [
    {
     "name": "stdout",
     "output_type": "stream",
     "text": [
      "0\n",
      "0\n",
      "0\n",
      "0\n",
      "0\n",
      "0\n",
      "0\n",
      "0\n",
      "0\n",
      "0\n",
      "0\n",
      "0\n",
      "0\n",
      "0\n",
      "0\n",
      "0\n",
      "0\n",
      "0\n",
      "0\n",
      "0\n",
      "4\n",
      "148\n",
      "2940\n",
      "31849\n",
      "200965\n",
      "771407\n",
      "1915193\n",
      "3303756\n",
      "4340525\n",
      "4824681\n",
      "4968710\n",
      "4996279\n",
      "4999707\n",
      "4999984\n",
      "4999999\n",
      "5000000\n",
      "411.69723200798035\n"
     ]
    }
   ],
   "source": [
    "# setting of parameters\n",
    "a = 14\n",
    "b = 1\n",
    "p = 0.6\n",
    "gam = 0.21\n",
    "\n",
    "size =5000000 # number of people to generate\n",
    "# initlaization\n",
    "MaxT = 385 # number of days\n",
    "start_time = time.time()\n",
    "time_G = np.array([1 for i in range(size)], dtype=\"int\") # time that has passed\n",
    "current_locs = np.random.choice(len(locs), size=size, replace=True, p=rele) # initial locations\n",
    "movements = np.full((size, MaxT), -1, dtype=\"int\") # movement list\n",
    "movements[:,0]=current_locs\n",
    "num_visited = np.ones(size, dtype=\"int\")\n",
    "locs_visited = np.zeros((size, len(locs))) # time of locations visited\n",
    "locs_visited[np.array([i for i in range(size)], dtype=\"int\"), current_locs] = 1\n",
    "while (movements[:, -1]==-1).sum() != 0: # if there are persons whose last locations are unknown\n",
    "    tp_ids = np.where(movements[:, -1]==-1)[0] # select people whose last locations are unknown\n",
    "    tp_size = len(tp_ids)\n",
    "    # calculate the wait time\n",
    "    tp_wait_time = np.random.gamma(a,1/b,size=tp_size) # sample from gamma distribution\n",
    "    tp_wait_time = np.rint(tp_wait_time).astype(\"int\") # round to the nearest integer\n",
    "    tp_wait_time[tp_wait_time==0] = 1 # if there is zero, make it one\n",
    "    # add the number of current locations to the existing locations\n",
    "    tp_end_time = time_G[tp_ids]+tp_wait_time\n",
    "    for i in range(len(tp_ids)):\n",
    "        if tp_end_time[i] <= MaxT:\n",
    "            movements[tp_ids[i], time_G[tp_ids[i]]:tp_end_time[i]-1] = movements[tp_ids[i], time_G[tp_ids[i]]-1]\n",
    "        else:\n",
    "            movements[tp_ids[i], time_G[tp_ids[i]]:] = movements[tp_ids[i], time_G[tp_ids[i]]-1]\n",
    "\n",
    "    time_G[tp_ids] += tp_wait_time\n",
    "    \n",
    "    # used for debug\n",
    "#     if ((time_G[tp_ids]>MaxT)*((movements[tp_ids][:, -1])==-1)).sum()>0:\n",
    "#         print(np.where((time_G[tp_ids]>MaxT)*((movements[tp_ids][:, -1])==-1)))\n",
    "#         break\n",
    "    \n",
    "    if (movements[:, -1]==-1).sum() != 0: # if there are persons whose last locations are unknown\n",
    "        tp_ids = np.where(movements[:, -1]==-1)[0] # select people whose last location is unknown        \n",
    "        tp_size = len(tp_ids)\n",
    "        # calculate if explore\n",
    "        tp_p_explore = p*num_visited[tp_ids]**(-gam)\n",
    "        if_explore = np.random.uniform(size=tp_size)<tp_p_explore # if the person explore\n",
    "        n_explore = if_explore.sum()\n",
    "\n",
    "        # for explorers, calculate the probabilities for new locations\n",
    "        tp_probs_masked = tran_M[current_locs[tp_ids[if_explore]]]*(locs_visited[tp_ids[if_explore]]==0)\n",
    "        tp_probs = (tp_probs_masked.T / tp_probs_masked.sum(axis=1)).T\n",
    "        # choose the new location\n",
    "        next_loc = fast_choose_from_2D(tp_probs, n_explore)\n",
    "        # update variables for explorers\n",
    "        current_locs[tp_ids[if_explore]] = next_loc\n",
    "        movements[tp_ids[if_explore], time_G[tp_ids[if_explore]]-1] = next_loc\n",
    "        num_visited[tp_ids[if_explore]] += 1\n",
    "        locs_visited[tp_ids[if_explore], next_loc] += 1\n",
    "\n",
    "        # for returners, visit one of the previously visited locations\n",
    "        # note that people may return to the same location\n",
    "        n_return = tp_size-n_explore\n",
    "        if_return = (if_explore==False)\n",
    "        tp_times = locs_visited[tp_ids[if_return]]\n",
    "        tp_probs = (tp_times.T / tp_times.sum(axis=1)).T\n",
    "        next_loc = fast_choose_from_2D(tp_probs, n_return)\n",
    "        # update variables for returners\n",
    "        current_locs[tp_ids[if_return]] = next_loc\n",
    "        movements[tp_ids[if_return], time_G[tp_ids[if_return]]-1] = next_loc\n",
    "        locs_visited[tp_ids[if_return], next_loc] += 1\n",
    "        \n",
    "    print((movements[:, -1]!=-1).sum())\n",
    "print(time.time()-start_time)"
   ]
  },
  {
   "cell_type": "code",
   "execution_count": 62,
   "id": "08ef2dbb",
   "metadata": {},
   "outputs": [],
   "source": [
    "# examination of movements\n",
    "for i in range(MaxT):\n",
    "    if (movements[:,i]==-1).sum() != 0:\n",
    "        print(i)"
   ]
  },
  {
   "cell_type": "code",
   "execution_count": null,
   "id": "e0cf95ca",
   "metadata": {},
   "outputs": [],
   "source": []
  },
  {
   "cell_type": "code",
   "execution_count": 63,
   "id": "2efa8aa0",
   "metadata": {},
   "outputs": [
    {
     "data": {
      "image/png": "[encoded data removed]",
      "text/plain": [
       "<Figure size 640x480 with 1 Axes>"
      ]
     },
     "metadata": {},
     "output_type": "display_data"
    }
   ],
   "source": [
    "# estimate the distribution of the number of visits and the time of stays (waiting time)\n",
    "stays_diff = movements[:, 1:] - movements[:, :-1]\n",
    "day_inds = np.where(stays_diff.reshape(-1)!=0)[0]\n",
    "start_days = np.array([i*MaxT for i in range(size)], dtype=\"int\")\n",
    "days = np.concatenate([day_inds, start_days])\n",
    "days.sort()\n",
    "days = days[1:] - days[:-1]\n",
    "_ = plt.hist(days, bins=list(range(1,120,2)))\n",
    "plt.title(\"distribution of waiting time, ave={:.2f}\".format(days.mean()))\n",
    "plt.show()"
   ]
  },
  {
   "cell_type": "code",
   "execution_count": 64,
   "id": "d1664234",
   "metadata": {},
   "outputs": [
    {
     "data": {
      "image/png": "[encoded data removed]",
      "text/plain": [
       "<Figure size 640x480 with 1 Axes>"
      ]
     },
     "metadata": {},
     "output_type": "display_data"
    }
   ],
   "source": [
    "visits = np.zeros(size, dtype=\"int\")\n",
    "uni_locs = np.sort(movements, axis=1)\n",
    "visits = (uni_locs[:,1:] != uni_locs[:,:-1]).sum(axis=1)+1\n",
    "_ = plt.hist(visits, bins=list(range(20)))\n",
    "plt.title(\"distribution of number of visits, ave={:.2f}\".format(visits.mean()))\n",
    "plt.show()"
   ]
  },
  {
   "cell_type": "code",
   "execution_count": null,
   "id": "70ff3a01",
   "metadata": {},
   "outputs": [],
   "source": []
  },
  {
   "cell_type": "code",
   "execution_count": null,
   "id": "08eeab5c",
   "metadata": {},
   "outputs": [],
   "source": []
  }
 ],
 "metadata": {
  "kernelspec": {
   "display_name": "Python 3 (ipykernel)",
   "language": "python",
   "name": "python3"
  },
  "language_info": {
   "codemirror_mode": {
    "name": "ipython",
    "version": 3
   },
   "file_extension": ".py",
   "mimetype": "text/x-python",
   "name": "python",
   "nbconvert_exporter": "python",
   "pygments_lexer": "ipython3",
   "version": "3.8.19"
  }
 },
 "nbformat": 4,
 "nbformat_minor": 5
}
